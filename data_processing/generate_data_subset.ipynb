{
 "cells": [
  {
   "cell_type": "markdown",
   "id": "c91eeeef",
   "metadata": {},
   "source": [
    "The goal of this notebook is to get a subset of the merged datasets.\n",
    "We will feed this into our baseline model and neural net as the starting\n",
    "point for the project progress report."
   ]
  },
  {
   "cell_type": "code",
   "execution_count": 1,
   "id": "a3d1ebdd",
   "metadata": {},
   "outputs": [],
   "source": [
    "import os\n",
    "import numpy as np\n",
    "import matplotlib.pyplot as plt\n",
    "import matplotlib.image as mpimg\n",
    "import random\n",
    "import shutil\n",
    "from collections import defaultdict\n",
    "import time\n",
    "import json\n",
    "from PIL import Image"
   ]
  },
  {
   "cell_type": "code",
   "execution_count": 11,
   "id": "12b58a5e",
   "metadata": {},
   "outputs": [],
   "source": [
    "alphabet_dir = \"D:\\\\APS360 Data\\\\Initial_Data\\\\A_to_Z\\\\\"\n",
    "alphabet_classes = ['A','B','C','D','E','F','G','H','I','J','K','L','M','N',\n",
    "                   'O','P','Q','R','S','T','U','V','W','X','Y','Z']\n",
    "space_delete_dir = \"D:\\\\APS360 Data\\\\Initial_Data\\\\space_delete\\\\\"\n",
    "hagrid_call_dir = \"D:\\\\APS360 Data\\\\Initial_Data\\\\hagrid_call_cropped\\\\\"\n",
    "hagrid_ok_dir = \"D:\\\\APS360 Data\\\\Initial_Data\\\\hagrid_ok_cropped\\\\\"\n",
    "\n",
    "subset_dir = \"D:\\APS360 Data\\Subset\\\\\"\n",
    "\n",
    "sub_num = 350"
   ]
  },
  {
   "cell_type": "code",
   "execution_count": 8,
   "id": "4972ea88",
   "metadata": {},
   "outputs": [],
   "source": [
    "def show_image(path):\n",
    "    img = mpimg.imread(path)\n",
    "    plt.imshow(img)\n",
    "    return img"
   ]
  },
  {
   "cell_type": "code",
   "execution_count": 9,
   "id": "dc60f3dd",
   "metadata": {},
   "outputs": [],
   "source": [
    "def choose_random_images(selected_dir,n):\n",
    "    # print(selected_dir)\n",
    "    folder_ls = os.listdir(selected_dir)\n",
    "    length = len(folder_ls)\n",
    "    indices = range(length)\n",
    "    random_indices = random.sample(indices,n)\n",
    "    filtered_ls = [selected_dir+\"\\\\\" + folder_ls[i] for i in random_indices]\n",
    "    return filtered_ls"
   ]
  },
  {
   "cell_type": "markdown",
   "id": "9e970954",
   "metadata": {},
   "source": [
    "## Start with alphabet A to Z\n",
    "\n"
   ]
  },
  {
   "cell_type": "code",
   "execution_count": 12,
   "id": "41ebb7e5",
   "metadata": {},
   "outputs": [
    {
     "name": "stdout",
     "output_type": "stream",
     "text": [
      "Took alphabet A: 0.01seconds.\n",
      "Took alphabet B: 0.01seconds.\n",
      "Took alphabet C: 0.01seconds.\n",
      "Took alphabet D: 0.01seconds.\n",
      "Took alphabet E: 0.01seconds.\n",
      "Took alphabet F: 0.01seconds.\n",
      "Took alphabet G: 0.01seconds.\n",
      "Took alphabet H: 0.01seconds.\n",
      "Took alphabet I: 0.01seconds.\n",
      "Took alphabet J: 0.01seconds.\n",
      "Took alphabet K: 0.01seconds.\n",
      "Took alphabet L: 0.0seconds.\n",
      "Took alphabet M: 0.01seconds.\n",
      "Took alphabet N: 0.0seconds.\n",
      "Took alphabet O: 0.0seconds.\n",
      "Took alphabet P: 0.0seconds.\n",
      "Took alphabet Q: 0.0seconds.\n",
      "Took alphabet R: 0.0seconds.\n",
      "Took alphabet S: 0.0seconds.\n",
      "Took alphabet T: 0.0seconds.\n",
      "Took alphabet U: 0.0seconds.\n",
      "Took alphabet V: 0.01seconds.\n",
      "Took alphabet W: 0.0seconds.\n",
      "Took alphabet X: 0.0seconds.\n",
      "Took alphabet Y: 0.0seconds.\n",
      "Took alphabet Z: 0.0seconds.\n"
     ]
    }
   ],
   "source": [
    "alphabet_file_dict = defaultdict(list)\n",
    "\n",
    "for alphabet in alphabet_classes:\n",
    "    s = time.time()\n",
    "    folder_path = alphabet_dir + alphabet\n",
    "    random_ls = choose_random_images(folder_path,sub_num)\n",
    "    alphabet_file_dict[alphabet] += random_ls\n",
    "    e = time.time()\n",
    "    print(\"Took alphabet \" + alphabet + \": \" + str(round(e-s,2)) + \"seconds.\")\n"
   ]
  },
  {
   "cell_type": "code",
   "execution_count": 15,
   "id": "fcdfb3bb",
   "metadata": {},
   "outputs": [
    {
     "data": {
      "text/plain": [
       "350"
      ]
     },
     "execution_count": 15,
     "metadata": {},
     "output_type": "execute_result"
    }
   ],
   "source": [
    "len(alphabet_file_dict['Z'])"
   ]
  },
  {
   "cell_type": "code",
   "execution_count": 16,
   "id": "05b6dc28",
   "metadata": {},
   "outputs": [
    {
     "name": "stdout",
     "output_type": "stream",
     "text": [
      "Took alphabet A: 10.49seconds.\n",
      "Took alphabet B: 9.08seconds.\n",
      "Took alphabet C: 10.27seconds.\n",
      "Took alphabet D: 9.49seconds.\n",
      "Took alphabet E: 9.45seconds.\n",
      "Took alphabet F: 10.25seconds.\n",
      "Took alphabet G: 8.91seconds.\n",
      "Took alphabet H: 10.67seconds.\n",
      "Took alphabet I: 10.39seconds.\n",
      "Took alphabet J: 9.33seconds.\n",
      "Took alphabet K: 9.92seconds.\n",
      "Took alphabet L: 9.68seconds.\n",
      "Took alphabet M: 9.27seconds.\n",
      "Took alphabet N: 9.21seconds.\n",
      "Took alphabet O: 9.0seconds.\n",
      "Took alphabet P: 8.94seconds.\n",
      "Took alphabet Q: 9.55seconds.\n",
      "Took alphabet R: 9.52seconds.\n",
      "Took alphabet S: 10.08seconds.\n",
      "Took alphabet T: 9.54seconds.\n",
      "Took alphabet U: 9.52seconds.\n",
      "Took alphabet V: 9.84seconds.\n",
      "Took alphabet W: 8.53seconds.\n",
      "Took alphabet X: 7.91seconds.\n",
      "Took alphabet Y: 8.61seconds.\n",
      "Took alphabet Z: 9.22seconds.\n"
     ]
    }
   ],
   "source": [
    "for alphabet in alphabet_classes:\n",
    "    s = time.time()\n",
    "    new_folder = subset_dir+alphabet\n",
    "    os.mkdir(new_folder)\n",
    "    for image_path in alphabet_file_dict[alphabet]:\n",
    "        shutil.copy(image_path,new_folder)\n",
    "    e = time.time()\n",
    "    print(\"Took alphabet \" + alphabet + \": \" + str(round(e-s,2)) + \"seconds.\")"
   ]
  },
  {
   "cell_type": "markdown",
   "id": "e561cbe5",
   "metadata": {},
   "source": [
    "## Get space and delete symbols"
   ]
  },
  {
   "cell_type": "code",
   "execution_count": 18,
   "id": "16ed19cd",
   "metadata": {},
   "outputs": [
    {
     "name": "stdout",
     "output_type": "stream",
     "text": [
      "Took symbol space: 0.01seconds.\n",
      "Took symbol del: 0.0seconds.\n"
     ]
    }
   ],
   "source": [
    "symbols = ['space','del']\n",
    "\n",
    "symbol_file_dict = defaultdict(list)\n",
    "\n",
    "for symbol in symbols:\n",
    "    s = time.time()\n",
    "    folder_path = space_delete_dir + symbol\n",
    "    random_ls = choose_random_images(folder_path,sub_num)\n",
    "    symbol_file_dict[symbol] += random_ls\n",
    "    e = time.time()\n",
    "    print(\"Took symbol \" + symbol + \": \" + str(round(e-s,2)) + \"seconds.\")\n"
   ]
  },
  {
   "cell_type": "code",
   "execution_count": 23,
   "id": "1cdebb72",
   "metadata": {},
   "outputs": [
    {
     "data": {
      "text/plain": [
       "350"
      ]
     },
     "execution_count": 23,
     "metadata": {},
     "output_type": "execute_result"
    }
   ],
   "source": [
    "len(symbol_file_dict['space'])"
   ]
  },
  {
   "cell_type": "code",
   "execution_count": 25,
   "id": "b44de7d5",
   "metadata": {},
   "outputs": [
    {
     "name": "stdout",
     "output_type": "stream",
     "text": [
      "Took symbol space: 0.0seconds.\n",
      "Took symbol del: 0.0seconds.\n"
     ]
    }
   ],
   "source": [
    "for symbol in symbols:\n",
    "    s = time.time()\n",
    "    new_folder = subset_dir+symbol\n",
    "    os.mkdir(new_folder)\n",
    "    for image_path in symbol_file_dict[symbol]:\n",
    "        shutil.copy(image_path,new_folder)\n",
    "    e = time.time()\n",
    "    print(\"Took symbol \" + symbol + \": \" + str(round(e-s,2)) + \"seconds.\")"
   ]
  },
  {
   "cell_type": "markdown",
   "id": "a1bc48c8",
   "metadata": {},
   "source": [
    "## Hagrid Call"
   ]
  },
  {
   "cell_type": "code",
   "execution_count": 40,
   "id": "79ff208f",
   "metadata": {},
   "outputs": [
    {
     "name": "stdout",
     "output_type": "stream",
     "text": [
      "Took symbol call: 0.01seconds.\n"
     ]
    }
   ],
   "source": [
    "s = time.time()\n",
    "folder_path = hagrid_call_dir\n",
    "random_ls = choose_random_images(folder_path,sub_num)\n",
    "e = time.time()\n",
    "print(\"Took symbol call: \" + str(round(e-s,2)) + \"seconds.\")"
   ]
  },
  {
   "cell_type": "code",
   "execution_count": 41,
   "id": "4f220262",
   "metadata": {},
   "outputs": [],
   "source": [
    "random_ls;"
   ]
  },
  {
   "cell_type": "code",
   "execution_count": 42,
   "id": "d5c103fd",
   "metadata": {},
   "outputs": [],
   "source": [
    "s = time.time()\n",
    "new_folder = subset_dir+\"call\"\n",
    "os.mkdir(new_folder)\n",
    "for image_path in random_ls:\n",
    "    shutil.copy(image_path,new_folder)\n",
    "e = time.time()"
   ]
  },
  {
   "cell_type": "code",
   "execution_count": 43,
   "id": "b8f5f0ca",
   "metadata": {},
   "outputs": [
    {
     "name": "stdout",
     "output_type": "stream",
     "text": [
      "Took symbol call: 4.17seconds.\n"
     ]
    }
   ],
   "source": [
    "print(\"Took symbol call: \"+ str(round(e-s,2)) + \"seconds.\")"
   ]
  },
  {
   "cell_type": "markdown",
   "id": "094dd8c7",
   "metadata": {},
   "source": [
    "## Hagrid OK"
   ]
  },
  {
   "cell_type": "code",
   "execution_count": 44,
   "id": "b3c4122c",
   "metadata": {},
   "outputs": [
    {
     "name": "stdout",
     "output_type": "stream",
     "text": [
      "Took symbol call: 0.01seconds.\n"
     ]
    }
   ],
   "source": [
    "s = time.time()\n",
    "folder_path = hagrid_ok_dir\n",
    "random_ls = choose_random_images(folder_path,sub_num)\n",
    "e = time.time()\n",
    "print(\"Took symbol call: \" + str(round(e-s,2)) + \"seconds.\")"
   ]
  },
  {
   "cell_type": "code",
   "execution_count": 45,
   "id": "329498a7",
   "metadata": {},
   "outputs": [],
   "source": [
    "s = time.time()\n",
    "new_folder = subset_dir+\"ok\"\n",
    "os.mkdir(new_folder)\n",
    "for image_path in random_ls:\n",
    "    shutil.copy(image_path,new_folder)\n",
    "e = time.time()"
   ]
  },
  {
   "cell_type": "code",
   "execution_count": 46,
   "id": "89fe9172",
   "metadata": {},
   "outputs": [
    {
     "name": "stdout",
     "output_type": "stream",
     "text": [
      "Took symbol ok: 6.32seconds.\n"
     ]
    }
   ],
   "source": [
    "print(\"Took symbol ok: \"+ str(round(e-s,2)) + \"seconds.\")"
   ]
  },
  {
   "cell_type": "markdown",
   "id": "7e48d161",
   "metadata": {},
   "source": [
    "# Looking at final subset"
   ]
  },
  {
   "cell_type": "code",
   "execution_count": 49,
   "id": "b5201da3",
   "metadata": {},
   "outputs": [
    {
     "data": {
      "text/plain": [
       "30"
      ]
     },
     "execution_count": 49,
     "metadata": {},
     "output_type": "execute_result"
    }
   ],
   "source": [
    "len(os.listdir(subset_dir))"
   ]
  },
  {
   "cell_type": "code",
   "execution_count": null,
   "id": "5841d357",
   "metadata": {},
   "outputs": [],
   "source": []
  }
 ],
 "metadata": {
  "kernelspec": {
   "display_name": "Python 3 (ipykernel)",
   "language": "python",
   "name": "python3"
  },
  "language_info": {
   "codemirror_mode": {
    "name": "ipython",
    "version": 3
   },
   "file_extension": ".py",
   "mimetype": "text/x-python",
   "name": "python",
   "nbconvert_exporter": "python",
   "pygments_lexer": "ipython3",
   "version": "3.9.7"
  }
 },
 "nbformat": 4,
 "nbformat_minor": 5
}
