{
 "cells": [
  {
   "cell_type": "markdown",
   "id": "f44469a5",
   "metadata": {},
   "source": [
    "The goal of this notebook is to generate validation and test folders of data. We will take 200 images per class randomly for both validation and test data."
   ]
  },
  {
   "cell_type": "markdown",
   "id": "d00cc18f",
   "metadata": {},
   "source": [
    "## Generate Val Data"
   ]
  },
  {
   "cell_type": "code",
   "execution_count": 1,
   "id": "f1a73327",
   "metadata": {},
   "outputs": [],
   "source": [
    "import os\n",
    "import numpy as np\n",
    "import matplotlib.pyplot as plt\n",
    "import matplotlib.image as mpimg\n",
    "import random\n",
    "import shutil\n",
    "from collections import defaultdict\n",
    "import time\n",
    "import json\n",
    "from PIL import Image\n",
    "import zipfile"
   ]
  },
  {
   "cell_type": "markdown",
   "id": "e52c87d0",
   "metadata": {},
   "source": [
    "## A to Z"
   ]
  },
  {
   "cell_type": "code",
   "execution_count": 2,
   "id": "4d7d36d4",
   "metadata": {},
   "outputs": [],
   "source": [
    "alphabet_dir = \"D:\\\\ASL_Dataset3\\\\asl_alphabet_train\\\\\"\n",
    "alphabet_classes = ['A','B','C','D','E','F','G','H','I','J','K','L','M','N',\n",
    "                   'O','P','Q','R','S','T','U','V','W','X','Y','Z']\n",
    "\n",
    "space_delete_dir = \"D:\\\\ASL_Dataset3\\\\asl_alphabet_train\\\\\"\n",
    "space_del_classes = ['space','del']\n",
    "\n",
    "hagrid_call_dir = \"D:\\\\Hagrid_Call\\\\\"\n",
    "hagrid_thumbsup_dir = \"D:\\\\Hagrid_Thumbsup\\\\\"\n",
    "\n",
    "# val_dir = \"D:\\\\APS360 Data\\\\Validation\\\\\"\n",
    "test_dir = \"D:\\\\APS360 Data\\\\Test\\\\\""
   ]
  },
  {
   "cell_type": "code",
   "execution_count": 3,
   "id": "b1699300",
   "metadata": {},
   "outputs": [],
   "source": [
    "def show_image(path):\n",
    "    img = mpimg.imread(path)\n",
    "    plt.imshow(img)\n",
    "    return img"
   ]
  },
  {
   "cell_type": "code",
   "execution_count": 4,
   "id": "72818e7e",
   "metadata": {},
   "outputs": [],
   "source": [
    "def choose_random_images(selected_dir,n):\n",
    "    # print(selected_dir)\n",
    "    folder_ls = os.listdir(selected_dir)\n",
    "    length = len(folder_ls)\n",
    "    indices = range(length)\n",
    "    random_indices = random.sample(indices,n)\n",
    "    filtered_ls = [selected_dir+\"\\\\\" + folder_ls[i] for i in random_indices]\n",
    "    return filtered_ls"
   ]
  },
  {
   "cell_type": "code",
   "execution_count": 5,
   "id": "e09474bc",
   "metadata": {},
   "outputs": [],
   "source": [
    "val_num = 200"
   ]
  },
  {
   "cell_type": "code",
   "execution_count": 6,
   "id": "3515c08a",
   "metadata": {},
   "outputs": [
    {
     "name": "stdout",
     "output_type": "stream",
     "text": [
      "Took alphabet A: 3.12seconds.\n",
      "Took alphabet B: 0.39seconds.\n",
      "Took alphabet C: 0.34seconds.\n",
      "Took alphabet D: 0.28seconds.\n",
      "Took alphabet E: 0.3seconds.\n",
      "Took alphabet F: 0.3seconds.\n",
      "Took alphabet G: 0.32seconds.\n",
      "Took alphabet H: 0.29seconds.\n",
      "Took alphabet I: 0.29seconds.\n",
      "Took alphabet J: 0.27seconds.\n",
      "Took alphabet K: 0.32seconds.\n",
      "Took alphabet L: 0.29seconds.\n",
      "Took alphabet M: 0.33seconds.\n",
      "Took alphabet N: 0.31seconds.\n",
      "Took alphabet O: 0.29seconds.\n",
      "Took alphabet P: 0.27seconds.\n",
      "Took alphabet Q: 0.29seconds.\n",
      "Took alphabet R: 0.32seconds.\n",
      "Took alphabet S: 0.26seconds.\n",
      "Took alphabet T: 0.28seconds.\n",
      "Took alphabet U: 0.31seconds.\n",
      "Took alphabet V: 0.33seconds.\n",
      "Took alphabet W: 0.25seconds.\n",
      "Took alphabet X: 0.28seconds.\n",
      "Took alphabet Y: 0.32seconds.\n",
      "Took alphabet Z: 0.3seconds.\n"
     ]
    }
   ],
   "source": [
    "# Start with alphabet A to Z\n",
    "\n",
    "alphabet_file_dict = defaultdict(list)\n",
    "\n",
    "for alphabet in alphabet_classes:\n",
    "    s = time.time()\n",
    "    folder_path = alphabet_dir + alphabet\n",
    "    random_ls = choose_random_images(folder_path,val_num)\n",
    "    alphabet_file_dict[alphabet] += random_ls\n",
    "    e = time.time()\n",
    "    print(\"Took alphabet \" + alphabet + \": \" + str(round(e-s,2)) + \"seconds.\")"
   ]
  },
  {
   "cell_type": "code",
   "execution_count": 7,
   "id": "92c29d63",
   "metadata": {},
   "outputs": [
    {
     "data": {
      "text/plain": [
       "26"
      ]
     },
     "execution_count": 7,
     "metadata": {},
     "output_type": "execute_result"
    }
   ],
   "source": [
    "len(alphabet_file_dict)"
   ]
  },
  {
   "cell_type": "code",
   "execution_count": 8,
   "id": "45b09be9",
   "metadata": {},
   "outputs": [
    {
     "data": {
      "text/plain": [
       "array([[[  0,   3, 253],\n",
       "        [  0,   3, 252],\n",
       "        [  1,   0, 240],\n",
       "        ...,\n",
       "        [  8,   2, 246],\n",
       "        [  0,   0, 245],\n",
       "        [  0,   3, 250]],\n",
       "\n",
       "       [[  0,   2, 252],\n",
       "        [  1,   2, 234],\n",
       "        [ 14,   3, 201],\n",
       "        ...,\n",
       "        [ 10,   1, 188],\n",
       "        [ 10,   6, 215],\n",
       "        [  4,   4, 222]],\n",
       "\n",
       "       [[  7,   0, 247],\n",
       "        [ 13,   0, 201],\n",
       "        [124, 102, 210],\n",
       "        ...,\n",
       "        [111,  98, 170],\n",
       "        [106,  94, 228],\n",
       "        [ 15,   7, 170]],\n",
       "\n",
       "       ...,\n",
       "\n",
       "       [[  6,   0, 248],\n",
       "        [ 10,   7, 200],\n",
       "        [212, 213, 255],\n",
       "        ...,\n",
       "        [162, 152, 186],\n",
       "        [162, 157, 255],\n",
       "        [ 14,  13, 149]],\n",
       "\n",
       "       [[  0,   0, 248],\n",
       "        [  3,   3, 213],\n",
       "        [207, 207, 255],\n",
       "        ...,\n",
       "        [151, 148, 251],\n",
       "        [145, 148, 255],\n",
       "        [  8,  13, 175]],\n",
       "\n",
       "       [[  1,   2, 250],\n",
       "        [  2,   5, 222],\n",
       "        [  9,   9, 169],\n",
       "        ...,\n",
       "        [ 14,  13, 151],\n",
       "        [  6,  11, 173],\n",
       "        [  2,  12, 187]]], dtype=uint8)"
      ]
     },
     "execution_count": 8,
     "metadata": {},
     "output_type": "execute_result"
    },
    {
     "data": {
      "image/png": "[encoded data removed]",
      "text/plain": [
       "<Figure size 432x288 with 1 Axes>"
      ]
     },
     "metadata": {
      "needs_background": "light"
     },
     "output_type": "display_data"
    }
   ],
   "source": [
    "show_image(alphabet_file_dict['I'][0])"
   ]
  },
  {
   "cell_type": "code",
   "execution_count": 9,
   "id": "7d9edda0",
   "metadata": {
    "scrolled": true
   },
   "outputs": [
    {
     "name": "stdout",
     "output_type": "stream",
     "text": [
      "Took alphabet A: 10.18seconds.\n",
      "Took alphabet B: 9.8seconds.\n",
      "Took alphabet C: 9.22seconds.\n",
      "Took alphabet D: 8.22seconds.\n",
      "Took alphabet E: 9.42seconds.\n",
      "Took alphabet F: 7.94seconds.\n",
      "Took alphabet G: 9.5seconds.\n",
      "Took alphabet H: 9.43seconds.\n",
      "Took alphabet I: 9.46seconds.\n",
      "Took alphabet J: 7.41seconds.\n",
      "Took alphabet K: 7.78seconds.\n",
      "Took alphabet L: 8.5seconds.\n",
      "Took alphabet M: 9.8seconds.\n",
      "Took alphabet N: 8.46seconds.\n",
      "Took alphabet O: 9.41seconds.\n",
      "Took alphabet P: 8.2seconds.\n",
      "Took alphabet Q: 9.79seconds.\n",
      "Took alphabet R: 9.25seconds.\n",
      "Took alphabet S: 9.49seconds.\n",
      "Took alphabet T: 9.12seconds.\n",
      "Took alphabet U: 10.5seconds.\n",
      "Took alphabet V: 9.58seconds.\n",
      "Took alphabet W: 8.88seconds.\n",
      "Took alphabet X: 9.3seconds.\n",
      "Took alphabet Y: 9.69seconds.\n",
      "Took alphabet Z: 9.71seconds.\n"
     ]
    }
   ],
   "source": [
    "for alphabet in alphabet_classes:\n",
    "    s = time.time()\n",
    "    new_folder = test_dir+alphabet\n",
    "    os.mkdir(new_folder)\n",
    "    for image_path in alphabet_file_dict[alphabet]:\n",
    "        shutil.copy(image_path,new_folder)\n",
    "    e = time.time()\n",
    "    print(\"Took alphabet \" + alphabet + \": \" + str(round(e-s,2)) + \"seconds.\")"
   ]
  },
  {
   "cell_type": "markdown",
   "id": "d2befd5a",
   "metadata": {},
   "source": [
    "## Space and Delete"
   ]
  },
  {
   "cell_type": "code",
   "execution_count": 10,
   "id": "d21c3ffa",
   "metadata": {},
   "outputs": [
    {
     "name": "stdout",
     "output_type": "stream",
     "text": [
      "Took symbol space: 2.72seconds.\n",
      "Took symbol del: 0.33seconds.\n"
     ]
    }
   ],
   "source": [
    "symbols = ['space','del']\n",
    "\n",
    "symbol_file_dict = defaultdict(list)\n",
    "\n",
    "for symbol in symbols:\n",
    "    s = time.time()\n",
    "    folder_path = space_delete_dir + symbol\n",
    "    random_ls = choose_random_images(folder_path,val_num)\n",
    "    symbol_file_dict[symbol] += random_ls\n",
    "    e = time.time()\n",
    "    print(\"Took symbol \" + symbol + \": \" + str(round(e-s,2)) + \"seconds.\")"
   ]
  },
  {
   "cell_type": "code",
   "execution_count": 11,
   "id": "89463c98",
   "metadata": {},
   "outputs": [
    {
     "data": {
      "text/plain": [
       "200"
      ]
     },
     "execution_count": 11,
     "metadata": {},
     "output_type": "execute_result"
    }
   ],
   "source": [
    "len(symbol_file_dict['space'])"
   ]
  },
  {
   "cell_type": "code",
   "execution_count": 12,
   "id": "63ae6d44",
   "metadata": {},
   "outputs": [
    {
     "name": "stdout",
     "output_type": "stream",
     "text": [
      "Took symbol space: 10.16seconds.\n",
      "Took symbol del: 9.58seconds.\n"
     ]
    }
   ],
   "source": [
    "for symbol in symbols:\n",
    "    s = time.time()\n",
    "    new_folder = test_dir+symbol\n",
    "    os.mkdir(new_folder)\n",
    "    for image_path in symbol_file_dict[symbol]:\n",
    "        shutil.copy(image_path,new_folder)\n",
    "    e = time.time()\n",
    "    print(\"Took symbol \" + symbol + \": \" + str(round(e-s,2)) + \"seconds.\")"
   ]
  },
  {
   "cell_type": "markdown",
   "id": "5ce840f2",
   "metadata": {},
   "source": [
    "## Hagrid Bounding Box Functions"
   ]
  },
  {
   "cell_type": "code",
   "execution_count": 13,
   "id": "059af9ed",
   "metadata": {},
   "outputs": [],
   "source": [
    "def crop_bounded_image(bbox, path):\n",
    "\n",
    "    image = Image.open(path)\n",
    "\n",
    "    for box in bbox:\n",
    "        x = box[0] * image.width\n",
    "        y = box[1] * image.height\n",
    "        width = x + box[2] * image.width\n",
    "        height = y + box[3] * image.height\n",
    "\n",
    "        cropped_image = image.crop((x, y, width, height))\n",
    "        return cropped_image"
   ]
  },
  {
   "cell_type": "code",
   "execution_count": 14,
   "id": "bc5f2b83",
   "metadata": {},
   "outputs": [],
   "source": [
    "thumbsup_json = \"D:\\\\APS360 Data\\\\Initial_Data\\\\ann_train_val\\\\like.json\"\n",
    "thumbsup_data = None\n",
    "with open(thumbsup_json,'r') as file:\n",
    "    thumbsup_data = json.load(file)\n",
    "    \n",
    "call_json = \"D:\\\\APS360 Data\\\\Initial_Data\\\\ann_train_val\\\\call.json\"\n",
    "call_data = None\n",
    "with open(call_json,'r') as file:\n",
    "    call_data = json.load(file)"
   ]
  },
  {
   "cell_type": "markdown",
   "id": "b36785fb",
   "metadata": {},
   "source": [
    "## Hagrid Call"
   ]
  },
  {
   "cell_type": "code",
   "execution_count": 15,
   "id": "8ba8c30c",
   "metadata": {},
   "outputs": [
    {
     "name": "stdout",
     "output_type": "stream",
     "text": [
      "Took symbol call: 0.12seconds.\n"
     ]
    }
   ],
   "source": [
    "s = time.time()\n",
    "folder_path = hagrid_call_dir\n",
    "random_ls = choose_random_images(folder_path,300)\n",
    "e = time.time()\n",
    "print(\"Took symbol call: \" + str(round(e-s,2)) + \"seconds.\")"
   ]
  },
  {
   "cell_type": "code",
   "execution_count": 16,
   "id": "d2dc7385",
   "metadata": {},
   "outputs": [
    {
     "data": {
      "text/plain": [
       "300"
      ]
     },
     "execution_count": 16,
     "metadata": {},
     "output_type": "execute_result"
    }
   ],
   "source": [
    "len(random_ls)"
   ]
  },
  {
   "cell_type": "code",
   "execution_count": 17,
   "id": "eda50d84",
   "metadata": {},
   "outputs": [],
   "source": [
    "new_folder = test_dir + \"call\"\n",
    "os.mkdir(new_folder)"
   ]
  },
  {
   "cell_type": "code",
   "execution_count": 18,
   "id": "d7db804e",
   "metadata": {},
   "outputs": [],
   "source": [
    "call_cropped_dir = new_folder\n",
    "call_dir = hagrid_call_dir\n",
    "call_ls = random_ls"
   ]
  },
  {
   "cell_type": "code",
   "execution_count": 19,
   "id": "4795e410",
   "metadata": {},
   "outputs": [
    {
     "name": "stdout",
     "output_type": "stream",
     "text": [
      "Imgs cropped: 0\n",
      "Imgs cropped: 10\n",
      "Imgs cropped: 20\n",
      "Imgs cropped: 30\n",
      "Imgs cropped: 40\n",
      "Imgs cropped: 50\n",
      "Imgs cropped: 50\n",
      "Imgs cropped: 60\n",
      "Imgs cropped: 70\n",
      "Imgs cropped: 80\n",
      "Imgs cropped: 80\n",
      "Imgs cropped: 80\n",
      "Imgs cropped: 90\n",
      "Imgs cropped: 100\n",
      "Imgs cropped: 110\n",
      "Imgs cropped: 120\n",
      "Imgs cropped: 130\n",
      "Imgs cropped: 140\n",
      "Imgs cropped: 140\n",
      "Imgs cropped: 150\n",
      "Imgs cropped: 160\n",
      "Imgs cropped: 170\n",
      "Imgs cropped: 180\n",
      "Imgs cropped: 180\n",
      "Imgs cropped: 190\n"
     ]
    }
   ],
   "source": [
    "imgs_cropped = 0\n",
    "i = 0\n",
    "while (imgs_cropped < 200):\n",
    "    if(imgs_cropped % 10 == 0):\n",
    "        print(\"Imgs cropped: \" + str(imgs_cropped))\n",
    "    filename = os.path.basename(call_ls[i])\n",
    "    bbox = call_data[filename.split(\".\")[0]]['bboxes']\n",
    "    if(len(bbox) > 1):\n",
    "        i += 1\n",
    "        continue\n",
    "    else:\n",
    "        img = crop_bounded_image(bbox,call_dir+\"\\\\\"+filename)\n",
    "        img.save(call_cropped_dir+\"\\\\\"+filename)\n",
    "        i += 1\n",
    "        imgs_cropped += 1"
   ]
  },
  {
   "cell_type": "markdown",
   "id": "d7701f3c",
   "metadata": {},
   "source": [
    "## Hagrid Thumbsup"
   ]
  },
  {
   "cell_type": "code",
   "execution_count": 20,
   "id": "9a332063",
   "metadata": {},
   "outputs": [],
   "source": [
    "path = \"D:\\\\Hagrid_Like.zip\""
   ]
  },
  {
   "cell_type": "code",
   "execution_count": 23,
   "id": "41f04929",
   "metadata": {},
   "outputs": [
    {
     "name": "stdout",
     "output_type": "stream",
     "text": [
      "Batch 0/300 time: 0.0\n",
      "Batch 50/300 time: 5.86\n",
      "Batch 100/300 time: 6.1\n",
      "Batch 150/300 time: 6.13\n",
      "Batch 200/300 time: 6.2\n",
      "Batch 250/300 time: 6.01\n"
     ]
    }
   ],
   "source": [
    "with zipfile.ZipFile(path, 'r') as zip_ref:\n",
    "    # Get a list of file names in the zip file\n",
    "    file_names = zip_ref.namelist()\n",
    "    \n",
    "    # Randomly select 3000 file names\n",
    "    random_files = random.sample(file_names, val_num+100)\n",
    "    \n",
    "    s = time.time()\n",
    "    e = None\n",
    "    \n",
    "    for i, file_name in enumerate(random_files):\n",
    "        batch = 50\n",
    "        if(i%batch == 0):\n",
    "            e = time.time()\n",
    "            print(\"Batch \" + str(i) + \"/300 time: \" + str(round(e-s,2)))\n",
    "            s = time.time()\n",
    "        \n",
    "        zip_ref.extract(file_name, \"D:\\\\APS360 Data\\\\Initial_Data\\\\Hagrid_Thumbsup4\")"
   ]
  },
  {
   "cell_type": "code",
   "execution_count": 27,
   "id": "6395fa4c",
   "metadata": {},
   "outputs": [
    {
     "name": "stdout",
     "output_type": "stream",
     "text": [
      "Imgs cropped: 0\n",
      "Imgs cropped: 10\n",
      "Imgs cropped: 10\n",
      "Imgs cropped: 10\n",
      "Imgs cropped: 20\n",
      "Imgs cropped: 30\n",
      "Imgs cropped: 40\n",
      "Imgs cropped: 40\n",
      "Imgs cropped: 50\n",
      "Imgs cropped: 60\n",
      "Imgs cropped: 60\n",
      "Imgs cropped: 70\n",
      "Imgs cropped: 70\n",
      "Imgs cropped: 70\n",
      "Imgs cropped: 80\n",
      "Imgs cropped: 90\n",
      "Imgs cropped: 100\n",
      "Imgs cropped: 110\n",
      "Imgs cropped: 110\n",
      "Imgs cropped: 120\n",
      "Imgs cropped: 130\n",
      "Imgs cropped: 140\n",
      "Imgs cropped: 150\n",
      "Imgs cropped: 160\n",
      "Imgs cropped: 170\n",
      "Imgs cropped: 170\n",
      "Imgs cropped: 180\n",
      "Imgs cropped: 190\n"
     ]
    }
   ],
   "source": [
    "thumbsup_cropped_dir = test_dir + \"thumbsup\"\n",
    "thumbsup_dir = \"D:\\\\APS360 Data\\\\Initial_Data\\\\Hagrid_Thumbsup4\"\n",
    "thumbsup_ls = os.listdir(thumbsup_dir)\n",
    "\n",
    "imgs_cropped = 0\n",
    "i = 0\n",
    "while (imgs_cropped < 200):\n",
    "    if(imgs_cropped % 10 == 0):\n",
    "        print(\"Imgs cropped: \" + str(imgs_cropped))\n",
    "    filename = os.path.basename(thumbsup_ls[i])\n",
    "    bbox = thumbsup_data[filename.split(\".\")[0]]['bboxes']\n",
    "    if(len(bbox) > 1):\n",
    "        i += 1\n",
    "        continue\n",
    "    else:\n",
    "        img = crop_bounded_image(bbox,thumbsup_dir+\"\\\\\"+filename)\n",
    "        img.save(thumbsup_cropped_dir+\"\\\\\"+filename)\n",
    "        i += 1\n",
    "        imgs_cropped += 1"
   ]
  },
  {
   "cell_type": "code",
   "execution_count": null,
   "id": "917afe0e",
   "metadata": {},
   "outputs": [],
   "source": []
  }
 ],
 "metadata": {
  "kernelspec": {
   "display_name": "Python 3 (ipykernel)",
   "language": "python",
   "name": "python3"
  },
  "language_info": {
   "codemirror_mode": {
    "name": "ipython",
    "version": 3
   },
   "file_extension": ".py",
   "mimetype": "text/x-python",
   "name": "python",
   "nbconvert_exporter": "python",
   "pygments_lexer": "ipython3",
   "version": "3.9.7"
  }
 },
 "nbformat": 4,
 "nbformat_minor": 5
}
